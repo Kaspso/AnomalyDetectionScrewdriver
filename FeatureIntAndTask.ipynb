{
 "cells": [
  {
   "cell_type": "markdown",
   "metadata": {},
   "source": [
    "This notebook will handle the feature extraction of the intrinsic and task data. It will extract both these data types using the tsfresh library which can extract features from time series data automatically. "
   ]
  },
  {
   "cell_type": "code",
   "execution_count": 1,
   "metadata": {},
   "outputs": [],
   "source": [
    "import os\n",
    "import pandas as pd\n",
    "import numpy as np\n",
    "from tsfresh import extract_features\n",
    "from tsfresh.feature_extraction import EfficientFCParameters, MinimalFCParameters, extract_features\n",
    "from tsfresh.utilities.dataframe_functions import make_forecasting_frame\n",
    "from tsfresh import select_features\n",
    "from tsfresh.utilities.dataframe_functions import impute"
   ]
  },
  {
   "cell_type": "markdown",
   "metadata": {},
   "source": [
    "Since the values were stored in an HDF5 filed to make storage simpler, this file has to be loaded. An HDF5 file is loaded using a key which specifies which data you want to extract as HDF5 can store multiple datasets within one file. This HDF5 file should not hold more datasets then the one we need, but the previous project specifies that this key should be used."
   ]
  },
  {
   "cell_type": "code",
   "execution_count": 2,
   "metadata": {},
   "outputs": [],
   "source": [
    "# Read the DataFrame from the HDF5 file\n",
    "df = pd.read_hdf(r\"C:\\Users\\kaspe\\Documents\\GitHub\\AAU-IoT-Solution-AI-REDGIO\\data_ozren\\Dataset.h5\", key='dataset')"
   ]
  },
  {
   "cell_type": "code",
   "execution_count": 3,
   "metadata": {},
   "outputs": [
    {
     "name": "stdout",
     "output_type": "stream",
     "text": [
      "                  Source  Time (ms)          Type  Value\n",
      "0          i030520235006      0.000  Nset (1/min)  0.000\n",
      "1          i030520235068      0.000  Nset (1/min)  0.000\n",
      "2          i050520238018      0.000   Angle (deg)  0.000\n",
      "3          i030520237070      0.000   Angle (deg)  0.000\n",
      "4          i280420232085      0.000   Angle (deg)  0.000\n",
      "...                  ...        ...           ...    ...\n",
      "33375222  t1005202314051   5001.519    TCP_y (mm)  2.600\n",
      "33375223  t1005202314051   5001.519    TCP_x (mm)  0.000\n",
      "33375224  t1005202314051   5001.519  TCP_rz (rad) -1.204\n",
      "33375225  t1005202314051   5001.519    TCP_z (mm) -4.600\n",
      "33375226  t1005202314051   5001.519  TCP_rx (rad)  1.234\n",
      "\n",
      "[33375227 rows x 4 columns]\n"
     ]
    }
   ],
   "source": [
    "print(df)"
   ]
  },
  {
   "cell_type": "markdown",
   "metadata": {},
   "source": [
    "We start of by creating the dataframe which we want to store the extracted features in and load in the dataset from the HDF5 file."
   ]
  },
  {
   "cell_type": "code",
   "execution_count": 4,
   "metadata": {},
   "outputs": [],
   "source": [
    "df_intrinsic = df"
   ]
  },
  {
   "cell_type": "markdown",
   "metadata": {},
   "source": [
    "Then we can choose if we want to extract features from either the intrinsic or the task data or on both at once. "
   ]
  },
  {
   "cell_type": "code",
   "execution_count": 5,
   "metadata": {},
   "outputs": [
    {
     "name": "stdout",
     "output_type": "stream",
     "text": [
      "                  Source  Time (ms)          Type  Value\n",
      "0          i030520235006      0.000  Nset (1/min)  0.000\n",
      "1          i030520235068      0.000  Nset (1/min)  0.000\n",
      "2          i050520238018      0.000   Angle (deg)  0.000\n",
      "3          i030520237070      0.000   Angle (deg)  0.000\n",
      "4          i280420232085      0.000   Angle (deg)  0.000\n",
      "...                  ...        ...           ...    ...\n",
      "33375222  t1005202314051   5001.519    TCP_y (mm)  2.600\n",
      "33375223  t1005202314051   5001.519    TCP_x (mm)  0.000\n",
      "33375224  t1005202314051   5001.519  TCP_rz (rad) -1.204\n",
      "33375225  t1005202314051   5001.519    TCP_z (mm) -4.600\n",
      "33375226  t1005202314051   5001.519  TCP_rx (rad)  1.234\n",
      "\n",
      "[33375227 rows x 4 columns]\n"
     ]
    }
   ],
   "source": [
    "#df_intrinsic = df[df['Source'].str.startswith('i')]   #Set to i for intrinsic robot data and t for screwdriver task data, use if want to train on one part of data specifically\n",
    "\n",
    "print(df_intrinsic)"
   ]
  },
  {
   "cell_type": "markdown",
   "metadata": {},
   "source": [
    "TSFresh has requirements  for how their columns should be formatted in order for it to automatically extract features. Therefore it is necessary  to rename columns as Source to id."
   ]
  },
  {
   "cell_type": "code",
   "execution_count": 6,
   "metadata": {},
   "outputs": [
    {
     "name": "stdout",
     "output_type": "stream",
     "text": [
      "                      id      time          kind  value\n",
      "0          i030520235006     0.000  Nset (1/min)  0.000\n",
      "1          i030520235068     0.000  Nset (1/min)  0.000\n",
      "2          i050520238018     0.000   Angle (deg)  0.000\n",
      "3          i030520237070     0.000   Angle (deg)  0.000\n",
      "4          i280420232085     0.000   Angle (deg)  0.000\n",
      "...                  ...       ...           ...    ...\n",
      "33375222  t1005202314051  5001.519    TCP_y (mm)  2.600\n",
      "33375223  t1005202314051  5001.519    TCP_x (mm)  0.000\n",
      "33375224  t1005202314051  5001.519  TCP_rz (rad) -1.204\n",
      "33375225  t1005202314051  5001.519    TCP_z (mm) -4.600\n",
      "33375226  t1005202314051  5001.519  TCP_rx (rad)  1.234\n",
      "\n",
      "[33375227 rows x 4 columns]\n"
     ]
    }
   ],
   "source": [
    "# Rename columns to meet tsfresh requirements\n",
    "df_intrinsic = df_intrinsic.rename(columns={'Source': 'id', 'Time (ms)': 'time', 'Type': 'kind', 'Value': 'value'})\n",
    "\n",
    "print(df_intrinsic)\n"
   ]
  },
  {
   "cell_type": "markdown",
   "metadata": {},
   "source": [
    "As these features are getting trained together with the extrinsic features, it is necesary to change the name indicators to \"id\" so that the correct data entries can be matched from extrinsic, task and intrinsic data. Note that this code uses \"intrinsic\" as a name for both the intrinsic and task data."
   ]
  },
  {
   "cell_type": "code",
   "execution_count": 7,
   "metadata": {},
   "outputs": [
    {
     "name": "stdout",
     "output_type": "stream",
     "text": [
      "                       id      time          kind  value\n",
      "0          id030520235006     0.000  Nset (1/min)  0.000\n",
      "1          id030520235068     0.000  Nset (1/min)  0.000\n",
      "2          id050520238018     0.000   Angle (deg)  0.000\n",
      "3          id030520237070     0.000   Angle (deg)  0.000\n",
      "4          id280420232085     0.000   Angle (deg)  0.000\n",
      "...                   ...       ...           ...    ...\n",
      "33375222  id1005202314051  5001.519    TCP_y (mm)  2.600\n",
      "33375223  id1005202314051  5001.519    TCP_x (mm)  0.000\n",
      "33375224  id1005202314051  5001.519  TCP_rz (rad) -1.204\n",
      "33375225  id1005202314051  5001.519    TCP_z (mm) -4.600\n",
      "33375226  id1005202314051  5001.519  TCP_rx (rad)  1.234\n",
      "\n",
      "[33375227 rows x 4 columns]\n"
     ]
    }
   ],
   "source": [
    "# Replace 't' or 'i' at the start of the id column with 'id'\n",
    "df_intrinsic['id'] = df_intrinsic['id'].str.replace(r'^(t|i)', 'id', regex=True).str.replace(r'^id+', 'id', regex=True)\n",
    "\n",
    "print(df_intrinsic)"
   ]
  },
  {
   "cell_type": "markdown",
   "metadata": {},
   "source": [
    "Now it is possible to start the feature extraction, we choose to do this with the EfficientFCParameters settting."
   ]
  },
  {
   "cell_type": "code",
   "execution_count": 8,
   "metadata": {},
   "outputs": [
    {
     "name": "stderr",
     "output_type": "stream",
     "text": [
      "Feature Extraction: 100%|██████████| 40/40 [13:33<00:00, 20.35s/it]  \n"
     ]
    }
   ],
   "source": [
    "# Define feature extraction settings\n",
    "#settings = MinimalFCParameters()\n",
    "settings = EfficientFCParameters()\n",
    "\n",
    "# Extract features\n",
    "extracted_features = extract_features(df_intrinsic, column_id=\"id\", column_kind=\"kind\", column_sort=\"time\", column_value=\"value\", default_fc_parameters=EfficientFCParameters())"
   ]
  },
  {
   "cell_type": "markdown",
   "metadata": {},
   "source": [
    "As the extraction for several reasons might have extracted features to be infinitely big or small, this will cause errors. Therefore these are converted to NaN (not a number) values instead. Then we drop the feature columns which consists of only NaN values. Now some feature columns might have individual NaN values which will also cause errors in the later stages of the training process, we have to do something to these. We chose to impute these values which means all NaN values are replaced with \"0\"."
   ]
  },
  {
   "cell_type": "code",
   "execution_count": 9,
   "metadata": {},
   "outputs": [],
   "source": [
    "# Replace columns with infinity to NaN\n",
    "imputed_features = extracted_features.replace([np.inf, -np.inf], np.nan)\n",
    "\n",
    "# Drop columns with only NaN values\n",
    "imputed_features = imputed_features.dropna(axis=1, how=\"all\")\n",
    "\n",
    "# Impute missing (NaN) values\n",
    "imputed_features = impute(imputed_features)\n"
   ]
  },
  {
   "cell_type": "code",
   "execution_count": 10,
   "metadata": {},
   "outputs": [
    {
     "name": "stdout",
     "output_type": "stream",
     "text": [
      "                TCP_rz (rad)__variance_larger_than_standard_deviation  \\\n",
      "id030520234000                                                0.0       \n",
      "id030520234001                                                0.0       \n",
      "id030520234002                                                0.0       \n",
      "id030520234003                                                0.0       \n",
      "id030520234004                                                0.0       \n",
      "...                                                           ...       \n",
      "id280420233082                                                0.0       \n",
      "id280420233083                                                0.0       \n",
      "id280420233084                                                0.0       \n",
      "id280420233085                                                0.0       \n",
      "id280420233086                                                0.0       \n",
      "\n",
      "                TCP_rz (rad)__has_duplicate_max  \\\n",
      "id030520234000                              1.0   \n",
      "id030520234001                              1.0   \n",
      "id030520234002                              1.0   \n",
      "id030520234003                              1.0   \n",
      "id030520234004                              1.0   \n",
      "...                                         ...   \n",
      "id280420233082                              1.0   \n",
      "id280420233083                              1.0   \n",
      "id280420233084                              1.0   \n",
      "id280420233085                              1.0   \n",
      "id280420233086                              1.0   \n",
      "\n",
      "                TCP_rz (rad)__has_duplicate_min  TCP_rz (rad)__has_duplicate  \\\n",
      "id030520234000                              1.0                          1.0   \n",
      "id030520234001                              1.0                          1.0   \n",
      "id030520234002                              1.0                          1.0   \n",
      "id030520234003                              1.0                          1.0   \n",
      "id030520234004                              1.0                          1.0   \n",
      "...                                         ...                          ...   \n",
      "id280420233082                              1.0                          1.0   \n",
      "id280420233083                              1.0                          1.0   \n",
      "id280420233084                              1.0                          1.0   \n",
      "id280420233085                              1.0                          1.0   \n",
      "id280420233086                              1.0                          1.0   \n",
      "\n",
      "                TCP_rz (rad)__sum_values  TCP_rz (rad)__abs_energy  \\\n",
      "id030520234000                 -1053.531               1272.852851   \n",
      "id030520234001                  -968.022               1169.871110   \n",
      "id030520234002                 -1030.489               1244.909305   \n",
      "id030520234003                  -835.058               1009.149114   \n",
      "id030520234004                  -926.019               1119.467005   \n",
      "...                                  ...                       ...   \n",
      "id280420233082                 -1203.833               1459.445245   \n",
      "id280420233083                 -1120.359               1359.940509   \n",
      "id280420233084                 -1120.716               1362.303150   \n",
      "id280420233085                 -1096.838               1330.831912   \n",
      "id280420233086                 -1082.477               1313.649297   \n",
      "\n",
      "                TCP_rz (rad)__mean_abs_change  TCP_rz (rad)__mean_change  \\\n",
      "id030520234000                       0.000009                   0.000000   \n",
      "id030520234001                       0.000004                  -0.000001   \n",
      "id030520234002                       0.000007                   0.000000   \n",
      "id030520234003                       0.000013                  -0.000001   \n",
      "id030520234004                       0.000008                  -0.000003   \n",
      "...                                       ...                        ...   \n",
      "id280420233082                       0.000033                  -0.000007   \n",
      "id280420233083                       0.000029                  -0.000010   \n",
      "id280420233084                       0.000031                  -0.000014   \n",
      "id280420233085                       0.000039                  -0.000010   \n",
      "id280420233086                       0.000035                  -0.000010   \n",
      "\n",
      "                TCP_rz (rad)__mean_second_derivative_central  \\\n",
      "id030520234000                                           0.0   \n",
      "id030520234001                                           0.0   \n",
      "id030520234002                                           0.0   \n",
      "id030520234003                                           0.0   \n",
      "id030520234004                                           0.0   \n",
      "...                                                      ...   \n",
      "id280420233082                                           0.0   \n",
      "id280420233083                                           0.0   \n",
      "id280420233084                                           0.0   \n",
      "id280420233085                                           0.0   \n",
      "id280420233086                                           0.0   \n",
      "\n",
      "                TCP_rz (rad)__median  ...  \\\n",
      "id030520234000                -1.208  ...   \n",
      "id030520234001                -1.209  ...   \n",
      "id030520234002                -1.208  ...   \n",
      "id030520234003                -1.208  ...   \n",
      "id030520234004                -1.208  ...   \n",
      "...                              ...  ...   \n",
      "id280420233082                -1.215  ...   \n",
      "id280420233083                -1.217  ...   \n",
      "id280420233084                -1.219  ...   \n",
      "id280420233085                -1.215  ...   \n",
      "id280420233086                -1.216  ...   \n",
      "\n",
      "                TCP_ry (rad)__fourier_entropy__bins_3  \\\n",
      "id030520234000                               0.045395   \n",
      "id030520234001                               0.045395   \n",
      "id030520234002                               0.045395   \n",
      "id030520234003                               0.045395   \n",
      "id030520234004                               0.045395   \n",
      "...                                               ...   \n",
      "id280420233082                               0.045395   \n",
      "id280420233083                               0.045395   \n",
      "id280420233084                               0.045395   \n",
      "id280420233085                               0.045395   \n",
      "id280420233086                               0.045395   \n",
      "\n",
      "                TCP_ry (rad)__fourier_entropy__bins_5  \\\n",
      "id030520234000                               0.125256   \n",
      "id030520234001                               0.045395   \n",
      "id030520234002                               0.045395   \n",
      "id030520234003                               0.090729   \n",
      "id030520234004                               0.090729   \n",
      "...                                               ...   \n",
      "id280420233082                               0.045395   \n",
      "id280420233083                               0.045395   \n",
      "id280420233084                               0.045395   \n",
      "id280420233085                               0.045395   \n",
      "id280420233086                               0.045395   \n",
      "\n",
      "                TCP_ry (rad)__fourier_entropy__bins_10  \\\n",
      "id030520234000                                0.125256   \n",
      "id030520234001                                0.125256   \n",
      "id030520234002                                0.125256   \n",
      "id030520234003                                0.090729   \n",
      "id030520234004                                0.136002   \n",
      "...                                                ...   \n",
      "id280420233082                                0.125256   \n",
      "id280420233083                                0.090729   \n",
      "id280420233084                                0.125256   \n",
      "id280420233085                                0.090729   \n",
      "id280420233086                                0.090729   \n",
      "\n",
      "                TCP_ry (rad)__fourier_entropy__bins_100  \\\n",
      "id030520234000                                 0.136002   \n",
      "id030520234001                                 0.136002   \n",
      "id030520234002                                 0.294982   \n",
      "id030520234003                                 0.273489   \n",
      "id030520234004                                 0.136002   \n",
      "...                                                 ...   \n",
      "id280420233082                                 0.290926   \n",
      "id280420233083                                 0.260704   \n",
      "id280420233084                                 0.226363   \n",
      "id280420233085                                 0.299054   \n",
      "id280420233086                                 0.273489   \n",
      "\n",
      "                TCP_ry (rad)__permutation_entropy__dimension_3__tau_1  \\\n",
      "id030520234000                                           0.288395       \n",
      "id030520234001                                           0.350058       \n",
      "id030520234002                                           0.272351       \n",
      "id030520234003                                           0.319881       \n",
      "id030520234004                                           0.322793       \n",
      "...                                                           ...       \n",
      "id280420233082                                           0.156671       \n",
      "id280420233083                                           0.192128       \n",
      "id280420233084                                           0.192294       \n",
      "id280420233085                                           0.168949       \n",
      "id280420233086                                           0.179791       \n",
      "\n",
      "                TCP_ry (rad)__permutation_entropy__dimension_4__tau_1  \\\n",
      "id030520234000                                           0.434876       \n",
      "id030520234001                                           0.533952       \n",
      "id030520234002                                           0.407416       \n",
      "id030520234003                                           0.484221       \n",
      "id030520234004                                           0.484618       \n",
      "...                                                           ...       \n",
      "id280420233082                                           0.234844       \n",
      "id280420233083                                           0.287847       \n",
      "id280420233084                                           0.288095       \n",
      "id280420233085                                           0.253221       \n",
      "id280420233086                                           0.269141       \n",
      "\n",
      "                TCP_ry (rad)__permutation_entropy__dimension_5__tau_1  \\\n",
      "id030520234000                                           0.594640       \n",
      "id030520234001                                           0.714382       \n",
      "id030520234002                                           0.540564       \n",
      "id030520234003                                           0.647947       \n",
      "id030520234004                                           0.648385       \n",
      "...                                                           ...       \n",
      "id280420233082                                           0.312903       \n",
      "id280420233083                                           0.383302       \n",
      "id280420233084                                           0.383632       \n",
      "id280420233085                                           0.337350       \n",
      "id280420233086                                           0.358352       \n",
      "\n",
      "                TCP_ry (rad)__permutation_entropy__dimension_6__tau_1  \\\n",
      "id030520234000                                           0.736858       \n",
      "id030520234001                                           0.883099       \n",
      "id030520234002                                           0.658625       \n",
      "id030520234003                                           0.810537       \n",
      "id030520234004                                           0.802421       \n",
      "...                                                           ...       \n",
      "id280420233082                                           0.373249       \n",
      "id280420233083                                           0.478084       \n",
      "id280420233084                                           0.485076       \n",
      "id280420233085                                           0.428938       \n",
      "id280420233086                                           0.444364       \n",
      "\n",
      "                TCP_ry (rad)__permutation_entropy__dimension_7__tau_1  \\\n",
      "id030520234000                                           0.874092       \n",
      "id030520234001                                           1.049935       \n",
      "id030520234002                                           0.779679       \n",
      "id030520234003                                           0.965011       \n",
      "id030520234004                                           0.953440       \n",
      "...                                                           ...       \n",
      "id280420233082                                           0.433630       \n",
      "id280420233083                                           0.569828       \n",
      "id280420233084                                           0.585861       \n",
      "id280420233085                                           0.519458       \n",
      "id280420233086                                           0.530372       \n",
      "\n",
      "                TCP_ry (rad)__mean_n_absolute_max__number_of_maxima_7  \n",
      "id030520234000                                              1.176      \n",
      "id030520234001                                              1.176      \n",
      "id030520234002                                              1.177      \n",
      "id030520234003                                              1.177      \n",
      "id030520234004                                              1.175      \n",
      "...                                                           ...      \n",
      "id280420233082                                              1.171      \n",
      "id280420233083                                              1.171      \n",
      "id280420233084                                              1.171      \n",
      "id280420233085                                              1.171      \n",
      "id280420233086                                              1.171      \n",
      "\n",
      "[1341 rows x 9267 columns]\n"
     ]
    }
   ],
   "source": [
    "print(imputed_features)"
   ]
  },
  {
   "cell_type": "markdown",
   "metadata": {},
   "source": [
    "Lastly we export the feature dataframe to a new csv file."
   ]
  },
  {
   "cell_type": "code",
   "execution_count": 11,
   "metadata": {},
   "outputs": [],
   "source": [
    "imputed_features.to_csv(\"tsfresh_efficient_features.csv\")"
   ]
  }
 ],
 "metadata": {
  "kernelspec": {
   "display_name": "MachineLearning",
   "language": "python",
   "name": "python3"
  },
  "language_info": {
   "codemirror_mode": {
    "name": "ipython",
    "version": 3
   },
   "file_extension": ".py",
   "mimetype": "text/x-python",
   "name": "python",
   "nbconvert_exporter": "python",
   "pygments_lexer": "ipython3",
   "version": "3.10.14"
  }
 },
 "nbformat": 4,
 "nbformat_minor": 2
}
